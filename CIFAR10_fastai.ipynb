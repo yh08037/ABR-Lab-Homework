{
  "nbformat": 4,
  "nbformat_minor": 0,
  "metadata": {
    "colab": {
      "name": "CIFAR10-fastai.ipynb",
      "version": "0.3.2",
      "provenance": [],
      "collapsed_sections": [],
      "include_colab_link": true
    },
    "kernelspec": {
      "name": "python3",
      "display_name": "Python 3"
    },
    "accelerator": "GPU"
  },
  "cells": [
    {
      "cell_type": "markdown",
      "metadata": {
        "id": "view-in-github",
        "colab_type": "text"
      },
      "source": [
        "<a href=\"https://colab.research.google.com/github/yh08037/ABR-Lab-Summer-Project/blob/master/CIFAR10_fastai.ipynb\" target=\"_parent\"><img src=\"https://colab.research.google.com/assets/colab-badge.svg\" alt=\"Open In Colab\"/></a>"
      ]
    },
    {
      "cell_type": "markdown",
      "metadata": {
        "id": "Z-iAjspJXCx3",
        "colab_type": "text"
      },
      "source": [
        "## Imoprt Fastai libraries"
      ]
    },
    {
      "cell_type": "code",
      "metadata": {
        "id": "J0_1ad68SPCv",
        "colab_type": "code",
        "colab": {}
      },
      "source": [
        "from fastai import *\n",
        "from fastai.vision import *"
      ],
      "execution_count": 0,
      "outputs": []
    },
    {
      "cell_type": "markdown",
      "metadata": {
        "id": "-e8CTyN0XIKK",
        "colab_type": "text"
      },
      "source": [
        "## Hyperparameters"
      ]
    },
    {
      "cell_type": "code",
      "metadata": {
        "id": "n79RvlV2WL2A",
        "colab_type": "code",
        "colab": {}
      },
      "source": [
        "bs = 64        # batch size\n",
        "img_size = 32  # image size"
      ],
      "execution_count": 0,
      "outputs": []
    },
    {
      "cell_type": "markdown",
      "metadata": {
        "id": "em7tAdIhXNgj",
        "colab_type": "text"
      },
      "source": [
        "## Getting the Dataset"
      ]
    },
    {
      "cell_type": "code",
      "metadata": {
        "id": "c3AZA1WpSmQZ",
        "colab_type": "code",
        "outputId": "b69ee4a3-8046-471d-cf5e-3a7e45c36cfa",
        "colab": {
          "base_uri": "https://localhost:8080/",
          "height": 35
        }
      },
      "source": [
        "path = untar_data(URLs.CIFAR); path"
      ],
      "execution_count": 0,
      "outputs": [
        {
          "output_type": "execute_result",
          "data": {
            "text/plain": [
              "PosixPath('/root/.fastai/data/cifar10')"
            ]
          },
          "metadata": {
            "tags": []
          },
          "execution_count": 3
        }
      ]
    },
    {
      "cell_type": "code",
      "metadata": {
        "id": "qtZ1G-MXS87J",
        "colab_type": "code",
        "outputId": "ccaad73a-1fe1-496d-a9a2-d475bceb072a",
        "colab": {
          "base_uri": "https://localhost:8080/",
          "height": 71
        }
      },
      "source": [
        "path.ls()"
      ],
      "execution_count": 0,
      "outputs": [
        {
          "output_type": "execute_result",
          "data": {
            "text/plain": [
              "[PosixPath('/root/.fastai/data/cifar10/train'),\n",
              " PosixPath('/root/.fastai/data/cifar10/test'),\n",
              " PosixPath('/root/.fastai/data/cifar10/labels.txt')]"
            ]
          },
          "metadata": {
            "tags": []
          },
          "execution_count": 4
        }
      ]
    },
    {
      "cell_type": "markdown",
      "metadata": {
        "id": "IZpl-hnFXRUR",
        "colab_type": "text"
      },
      "source": [
        "## Creating an Image Data Bunch"
      ]
    },
    {
      "cell_type": "code",
      "metadata": {
        "id": "kmYwsVwzTGK7",
        "colab_type": "code",
        "colab": {}
      },
      "source": [
        "data = ImageDataBunch.from_folder(path, ds_tfms=get_transforms(), valid='test', size=img_size, bs=bs)"
      ],
      "execution_count": 0,
      "outputs": []
    },
    {
      "cell_type": "code",
      "metadata": {
        "id": "uucKS_I1fj2M",
        "colab_type": "code",
        "outputId": "19d57a4d-b0ac-48d4-a98a-e792ef374213",
        "colab": {
          "base_uri": "https://localhost:8080/",
          "height": 107
        }
      },
      "source": [
        "help(ImageDataBunch.from_folder)"
      ],
      "execution_count": 0,
      "outputs": [
        {
          "output_type": "stream",
          "text": [
            "Help on method from_folder in module fastai.vision.data:\n",
            "\n",
            "from_folder(path:Union[pathlib.Path, str], train:Union[pathlib.Path, str]='train', valid:Union[pathlib.Path, str]='valid', valid_pct=None, seed:int=None, classes:Collection=None, **kwargs:Any) -> 'ImageDataBunch' method of builtins.type instance\n",
            "    Create from imagenet style dataset in `path` with `train`,`valid`,`test` subfolders (or provide `valid_pct`).\n",
            "\n"
          ],
          "name": "stdout"
        }
      ]
    },
    {
      "cell_type": "code",
      "metadata": {
        "id": "A6YpKSMFTjOv",
        "colab_type": "code",
        "outputId": "7714eaef-bd8e-4827-b427-8e56fa14eccd",
        "colab": {
          "base_uri": "https://localhost:8080/",
          "height": 323
        }
      },
      "source": [
        "data.normalize(imagenet_stats)"
      ],
      "execution_count": 0,
      "outputs": [
        {
          "output_type": "execute_result",
          "data": {
            "text/plain": [
              "ImageDataBunch;\n",
              "\n",
              "Train: LabelList (50000 items)\n",
              "x: ImageList\n",
              "Image (3, 32, 32),Image (3, 32, 32),Image (3, 32, 32),Image (3, 32, 32),Image (3, 32, 32)\n",
              "y: CategoryList\n",
              "cat,cat,cat,cat,cat\n",
              "Path: /root/.fastai/data/cifar10;\n",
              "\n",
              "Valid: LabelList (10000 items)\n",
              "x: ImageList\n",
              "Image (3, 32, 32),Image (3, 32, 32),Image (3, 32, 32),Image (3, 32, 32),Image (3, 32, 32)\n",
              "y: CategoryList\n",
              "cat,cat,cat,cat,cat\n",
              "Path: /root/.fastai/data/cifar10;\n",
              "\n",
              "Test: None"
            ]
          },
          "metadata": {
            "tags": []
          },
          "execution_count": 7
        }
      ]
    },
    {
      "cell_type": "markdown",
      "metadata": {
        "id": "9tO6R0r1XWop",
        "colab_type": "text"
      },
      "source": [
        "## Visualising our data"
      ]
    },
    {
      "cell_type": "code",
      "metadata": {
        "id": "1oTYi4P1WeYo",
        "colab_type": "code",
        "outputId": "f4832ec1-e302-4f84-fccf-0dc2abe61f08",
        "colab": {
          "base_uri": "https://localhost:8080/",
          "height": 53
        }
      },
      "source": [
        "print(data.classes)\n",
        "len(data.classes), data.c"
      ],
      "execution_count": 0,
      "outputs": [
        {
          "output_type": "stream",
          "text": [
            "['airplane', 'automobile', 'bird', 'cat', 'deer', 'dog', 'frog', 'horse', 'ship', 'truck']\n"
          ],
          "name": "stdout"
        },
        {
          "output_type": "execute_result",
          "data": {
            "text/plain": [
              "(10, 10)"
            ]
          },
          "metadata": {
            "tags": []
          },
          "execution_count": 8
        }
      ]
    },
    {
      "cell_type": "code",
      "metadata": {
        "id": "ujqq5Vu3Xg2A",
        "colab_type": "code",
        "outputId": "145d090c-b6f8-439a-e818-3ac5ff9442a7",
        "colab": {
          "base_uri": "https://localhost:8080/",
          "height": 369
        }
      },
      "source": [
        "data.show_batch(rows = 3, figsize=(5, 5))"
      ],
      "execution_count": 0,
      "outputs": [
        {
          "output_type": "display_data",
          "data": {
            "image/png": "[encoded data removed]",
            "text/plain": [
              "<Figure size 360x360 with 9 Axes>"
            ]
          },
          "metadata": {
            "tags": []
          }
        }
      ]
    },
    {
      "cell_type": "markdown",
      "metadata": {
        "id": "OLgnDs0_Xwbt",
        "colab_type": "text"
      },
      "source": [
        "## Training our Model"
      ]
    },
    {
      "cell_type": "code",
      "metadata": {
        "id": "wrEdTcKVXiIt",
        "colab_type": "code",
        "outputId": "073f6b8b-bfd1-4fea-8c1b-29ecd9019511",
        "colab": {
          "base_uri": "https://localhost:8080/",
          "height": 53
        }
      },
      "source": [
        "learn = cnn_learner(data, models.resnet18, metrics=accuracy)"
      ],
      "execution_count": 0,
      "outputs": [
        {
          "output_type": "stream",
          "text": [
            "Downloading: \"https://download.pytorch.org/models/resnet18-5c106cde.pth\" to /root/.cache/torch/checkpoints/resnet18-5c106cde.pth\n",
            "100%|██████████| 46827520/46827520 [00:00<00:00, 91597670.45it/s]\n"
          ],
          "name": "stderr"
        }
      ]
    },
    {
      "cell_type": "code",
      "metadata": {
        "id": "-jBvo46ah3Dg",
        "colab_type": "code",
        "outputId": "04e97cfe-8606-48d8-ceff-ec5546cd78bd",
        "colab": {
          "base_uri": "https://localhost:8080/",
          "height": 127
        }
      },
      "source": [
        "help(cnn_learner)"
      ],
      "execution_count": 0,
      "outputs": [
        {
          "output_type": "stream",
          "text": [
            "Help on function cnn_learner in module fastai.vision.learner:\n",
            "\n",
            "cnn_learner(data:fastai.basic_data.DataBunch, base_arch:Callable, cut:Union[int, Callable]=None, pretrained:bool=True, lin_ftrs:Union[Collection[int], NoneType]=None, ps:Union[float, Collection[float]]=0.5, custom_head:Union[torch.nn.modules.module.Module, NoneType]=None, split_on:Union[Callable, Collection[Collection[torch.nn.modules.module.Module]], NoneType]=None, bn_final:bool=False, init=<function kaiming_normal_ at 0x7fd6a9098d08>, concat_pool:bool=True, **kwargs:Any) -> fastai.basic_train.Learner\n",
            "    Build convnet style learner.\n",
            "\n"
          ],
          "name": "stdout"
        }
      ]
    },
    {
      "cell_type": "code",
      "metadata": {
        "id": "7wqjkVD3ktJp",
        "colab_type": "code",
        "outputId": "10a47f3e-a862-4666-9753-570fde230326",
        "colab": {
          "base_uri": "https://localhost:8080/",
          "height": 301
        }
      },
      "source": [
        "learn.lr_find()\n",
        "learn.recorder.plot()"
      ],
      "execution_count": 0,
      "outputs": [
        {
          "output_type": "display_data",
          "data": {
            "text/html": [
              ""
            ],
            "text/plain": [
              "<IPython.core.display.HTML object>"
            ]
          },
          "metadata": {
            "tags": []
          }
        },
        {
          "output_type": "stream",
          "text": [
            "LR Finder is complete, type {learner_name}.recorder.plot() to see the graph.\n"
          ],
          "name": "stdout"
        },
        {
          "output_type": "display_data",
          "data": {
            "image/png": "[encoded data removed]",
            "text/plain": [
              "<Figure size 432x288 with 1 Axes>"
            ]
          },
          "metadata": {
            "tags": []
          }
        }
      ]
    },
    {
      "cell_type": "code",
      "metadata": {
        "id": "L6M_GsFbjE1J",
        "colab_type": "code",
        "outputId": "b10a74ed-92c6-418d-89cc-252d8ec3f253",
        "colab": {
          "base_uri": "https://localhost:8080/",
          "height": 173
        }
      },
      "source": [
        "learn.fit_one_cycle(4)  # choose learning rate with maximum declining slope\n",
        "learn.save('stage-1')  # saving model weights"
      ],
      "execution_count": 0,
      "outputs": [
        {
          "output_type": "display_data",
          "data": {
            "text/html": [
              "<table border=\"1\" class=\"dataframe\">\n",
              "  <thead>\n",
              "    <tr style=\"text-align: left;\">\n",
              "      <th>epoch</th>\n",
              "      <th>train_loss</th>\n",
              "      <th>valid_loss</th>\n",
              "      <th>accuracy</th>\n",
              "      <th>time</th>\n",
              "    </tr>\n",
              "  </thead>\n",
              "  <tbody>\n",
              "    <tr>\n",
              "      <td>0</td>\n",
              "      <td>1.611602</td>\n",
              "      <td>1.436224</td>\n",
              "      <td>0.481600</td>\n",
              "      <td>01:41</td>\n",
              "    </tr>\n",
              "    <tr>\n",
              "      <td>1</td>\n",
              "      <td>1.330619</td>\n",
              "      <td>1.182431</td>\n",
              "      <td>0.573200</td>\n",
              "      <td>01:40</td>\n",
              "    </tr>\n",
              "    <tr>\n",
              "      <td>2</td>\n",
              "      <td>1.193653</td>\n",
              "      <td>1.090821</td>\n",
              "      <td>0.606300</td>\n",
              "      <td>01:40</td>\n",
              "    </tr>\n",
              "    <tr>\n",
              "      <td>3</td>\n",
              "      <td>1.155647</td>\n",
              "      <td>1.081662</td>\n",
              "      <td>0.616200</td>\n",
              "      <td>01:40</td>\n",
              "    </tr>\n",
              "  </tbody>\n",
              "</table>"
            ],
            "text/plain": [
              "<IPython.core.display.HTML object>"
            ]
          },
          "metadata": {
            "tags": []
          }
        }
      ]
    },
    {
      "cell_type": "code",
      "metadata": {
        "id": "sk6os3MBtYNF",
        "colab_type": "code",
        "outputId": "7c0e349a-63b0-4da4-ff06-67b3199143d8",
        "colab": {
          "base_uri": "https://localhost:8080/",
          "height": 301
        }
      },
      "source": [
        "learn.lr_find()\n",
        "learn.recorder.plot()"
      ],
      "execution_count": 0,
      "outputs": [
        {
          "output_type": "display_data",
          "data": {
            "text/html": [
              ""
            ],
            "text/plain": [
              "<IPython.core.display.HTML object>"
            ]
          },
          "metadata": {
            "tags": []
          }
        },
        {
          "output_type": "stream",
          "text": [
            "LR Finder is complete, type {learner_name}.recorder.plot() to see the graph.\n"
          ],
          "name": "stdout"
        },
        {
          "output_type": "display_data",
          "data": {
            "image/png": "[encoded data removed]",
            "text/plain": [
              "<Figure size 432x288 with 1 Axes>"
            ]
          },
          "metadata": {
            "tags": []
          }
        }
      ]
    },
    {
      "cell_type": "code",
      "metadata": {
        "id": "T9eJof00jGCK",
        "colab_type": "code",
        "outputId": "19e336e6-0515-4c0c-b44a-eac4779c0826",
        "colab": {
          "base_uri": "https://localhost:8080/",
          "height": 204
        }
      },
      "source": [
        "learn.fit_one_cycle(5, slice(1e-03))  # choose learning rate with maximum declining slope\n",
        "learn.save('stage-2')  # saving model weights"
      ],
      "execution_count": 0,
      "outputs": [
        {
          "output_type": "display_data",
          "data": {
            "text/html": [
              "<table border=\"1\" class=\"dataframe\">\n",
              "  <thead>\n",
              "    <tr style=\"text-align: left;\">\n",
              "      <th>epoch</th>\n",
              "      <th>train_loss</th>\n",
              "      <th>valid_loss</th>\n",
              "      <th>accuracy</th>\n",
              "      <th>time</th>\n",
              "    </tr>\n",
              "  </thead>\n",
              "  <tbody>\n",
              "    <tr>\n",
              "      <td>0</td>\n",
              "      <td>1.151497</td>\n",
              "      <td>1.061000</td>\n",
              "      <td>0.621100</td>\n",
              "      <td>01:42</td>\n",
              "    </tr>\n",
              "    <tr>\n",
              "      <td>1</td>\n",
              "      <td>1.124029</td>\n",
              "      <td>1.023731</td>\n",
              "      <td>0.636000</td>\n",
              "      <td>01:41</td>\n",
              "    </tr>\n",
              "    <tr>\n",
              "      <td>2</td>\n",
              "      <td>1.092411</td>\n",
              "      <td>1.002666</td>\n",
              "      <td>0.648300</td>\n",
              "      <td>01:40</td>\n",
              "    </tr>\n",
              "    <tr>\n",
              "      <td>3</td>\n",
              "      <td>1.075055</td>\n",
              "      <td>0.999075</td>\n",
              "      <td>0.643800</td>\n",
              "      <td>01:40</td>\n",
              "    </tr>\n",
              "    <tr>\n",
              "      <td>4</td>\n",
              "      <td>1.058446</td>\n",
              "      <td>0.983667</td>\n",
              "      <td>0.651600</td>\n",
              "      <td>01:39</td>\n",
              "    </tr>\n",
              "  </tbody>\n",
              "</table>"
            ],
            "text/plain": [
              "<IPython.core.display.HTML object>"
            ]
          },
          "metadata": {
            "tags": []
          }
        }
      ]
    },
    {
      "cell_type": "code",
      "metadata": {
        "id": "1jzcyOt2jLny",
        "colab_type": "code",
        "outputId": "05712c60-489c-416b-c359-4d9f43586bf4",
        "colab": {
          "base_uri": "https://localhost:8080/",
          "height": 359
        }
      },
      "source": [
        "learn.fit_one_cycle(10) \n",
        "learn.save('stage-3')  # saving model weights"
      ],
      "execution_count": 0,
      "outputs": [
        {
          "output_type": "display_data",
          "data": {
            "text/html": [
              "<table border=\"1\" class=\"dataframe\">\n",
              "  <thead>\n",
              "    <tr style=\"text-align: left;\">\n",
              "      <th>epoch</th>\n",
              "      <th>train_loss</th>\n",
              "      <th>valid_loss</th>\n",
              "      <th>accuracy</th>\n",
              "      <th>time</th>\n",
              "    </tr>\n",
              "  </thead>\n",
              "  <tbody>\n",
              "    <tr>\n",
              "      <td>0</td>\n",
              "      <td>1.062355</td>\n",
              "      <td>0.977753</td>\n",
              "      <td>0.657500</td>\n",
              "      <td>01:39</td>\n",
              "    </tr>\n",
              "    <tr>\n",
              "      <td>1</td>\n",
              "      <td>1.064344</td>\n",
              "      <td>0.957646</td>\n",
              "      <td>0.660400</td>\n",
              "      <td>01:40</td>\n",
              "    </tr>\n",
              "    <tr>\n",
              "      <td>2</td>\n",
              "      <td>1.031535</td>\n",
              "      <td>0.946419</td>\n",
              "      <td>0.661600</td>\n",
              "      <td>01:41</td>\n",
              "    </tr>\n",
              "    <tr>\n",
              "      <td>3</td>\n",
              "      <td>1.007754</td>\n",
              "      <td>0.926869</td>\n",
              "      <td>0.670400</td>\n",
              "      <td>01:39</td>\n",
              "    </tr>\n",
              "    <tr>\n",
              "      <td>4</td>\n",
              "      <td>0.982397</td>\n",
              "      <td>0.866333</td>\n",
              "      <td>0.689800</td>\n",
              "      <td>01:39</td>\n",
              "    </tr>\n",
              "    <tr>\n",
              "      <td>5</td>\n",
              "      <td>0.959885</td>\n",
              "      <td>0.856892</td>\n",
              "      <td>0.696800</td>\n",
              "      <td>01:38</td>\n",
              "    </tr>\n",
              "    <tr>\n",
              "      <td>6</td>\n",
              "      <td>0.916419</td>\n",
              "      <td>0.830519</td>\n",
              "      <td>0.703100</td>\n",
              "      <td>01:39</td>\n",
              "    </tr>\n",
              "    <tr>\n",
              "      <td>7</td>\n",
              "      <td>0.911302</td>\n",
              "      <td>0.831095</td>\n",
              "      <td>0.698400</td>\n",
              "      <td>01:40</td>\n",
              "    </tr>\n",
              "    <tr>\n",
              "      <td>8</td>\n",
              "      <td>0.869888</td>\n",
              "      <td>0.818047</td>\n",
              "      <td>0.703900</td>\n",
              "      <td>01:42</td>\n",
              "    </tr>\n",
              "    <tr>\n",
              "      <td>9</td>\n",
              "      <td>0.866752</td>\n",
              "      <td>0.828163</td>\n",
              "      <td>0.703200</td>\n",
              "      <td>01:42</td>\n",
              "    </tr>\n",
              "  </tbody>\n",
              "</table>"
            ],
            "text/plain": [
              "<IPython.core.display.HTML object>"
            ]
          },
          "metadata": {
            "tags": []
          }
        }
      ]
    },
    {
      "cell_type": "code",
      "metadata": {
        "id": "KjCgDqfSmcdj",
        "colab_type": "code",
        "outputId": "6d8a9f42-6373-4c6a-95c1-fcd896c0e5ce",
        "colab": {
          "base_uri": "https://localhost:8080/",
          "height": 359
        }
      },
      "source": [
        "learn.fit_one_cycle(10) \n",
        "learn.save('stage-4')  # saving model weights"
      ],
      "execution_count": 0,
      "outputs": [
        {
          "output_type": "display_data",
          "data": {
            "text/html": [
              "<table border=\"1\" class=\"dataframe\">\n",
              "  <thead>\n",
              "    <tr style=\"text-align: left;\">\n",
              "      <th>epoch</th>\n",
              "      <th>train_loss</th>\n",
              "      <th>valid_loss</th>\n",
              "      <th>accuracy</th>\n",
              "      <th>time</th>\n",
              "    </tr>\n",
              "  </thead>\n",
              "  <tbody>\n",
              "    <tr>\n",
              "      <td>0</td>\n",
              "      <td>0.879922</td>\n",
              "      <td>0.815395</td>\n",
              "      <td>0.708000</td>\n",
              "      <td>01:39</td>\n",
              "    </tr>\n",
              "    <tr>\n",
              "      <td>1</td>\n",
              "      <td>0.912066</td>\n",
              "      <td>0.830796</td>\n",
              "      <td>0.699900</td>\n",
              "      <td>01:41</td>\n",
              "    </tr>\n",
              "    <tr>\n",
              "      <td>2</td>\n",
              "      <td>0.904606</td>\n",
              "      <td>0.836801</td>\n",
              "      <td>0.702200</td>\n",
              "      <td>01:40</td>\n",
              "    </tr>\n",
              "    <tr>\n",
              "      <td>3</td>\n",
              "      <td>0.918244</td>\n",
              "      <td>0.820570</td>\n",
              "      <td>0.710200</td>\n",
              "      <td>01:40</td>\n",
              "    </tr>\n",
              "    <tr>\n",
              "      <td>4</td>\n",
              "      <td>0.879991</td>\n",
              "      <td>0.804630</td>\n",
              "      <td>0.715800</td>\n",
              "      <td>01:42</td>\n",
              "    </tr>\n",
              "    <tr>\n",
              "      <td>5</td>\n",
              "      <td>0.854532</td>\n",
              "      <td>0.786303</td>\n",
              "      <td>0.723500</td>\n",
              "      <td>01:42</td>\n",
              "    </tr>\n",
              "    <tr>\n",
              "      <td>6</td>\n",
              "      <td>0.853416</td>\n",
              "      <td>0.795334</td>\n",
              "      <td>0.719000</td>\n",
              "      <td>01:42</td>\n",
              "    </tr>\n",
              "    <tr>\n",
              "      <td>7</td>\n",
              "      <td>0.824352</td>\n",
              "      <td>0.780112</td>\n",
              "      <td>0.723800</td>\n",
              "      <td>01:41</td>\n",
              "    </tr>\n",
              "    <tr>\n",
              "      <td>8</td>\n",
              "      <td>0.834029</td>\n",
              "      <td>0.766597</td>\n",
              "      <td>0.729800</td>\n",
              "      <td>01:41</td>\n",
              "    </tr>\n",
              "    <tr>\n",
              "      <td>9</td>\n",
              "      <td>0.802647</td>\n",
              "      <td>0.776387</td>\n",
              "      <td>0.727100</td>\n",
              "      <td>01:42</td>\n",
              "    </tr>\n",
              "  </tbody>\n",
              "</table>"
            ],
            "text/plain": [
              "<IPython.core.display.HTML object>"
            ]
          },
          "metadata": {
            "tags": []
          }
        }
      ]
    },
    {
      "cell_type": "code",
      "metadata": {
        "id": "Z0v94glzr8ir",
        "colab_type": "code",
        "outputId": "1a1f3c87-6069-4302-cfae-8cd7835e4180",
        "colab": {
          "base_uri": "https://localhost:8080/",
          "height": 359
        }
      },
      "source": [
        "learn.fit_one_cycle(10) \n",
        "learn.save('stage-5')  # saving model weights"
      ],
      "execution_count": 0,
      "outputs": [
        {
          "output_type": "display_data",
          "data": {
            "text/html": [
              "<table border=\"1\" class=\"dataframe\">\n",
              "  <thead>\n",
              "    <tr style=\"text-align: left;\">\n",
              "      <th>epoch</th>\n",
              "      <th>train_loss</th>\n",
              "      <th>valid_loss</th>\n",
              "      <th>accuracy</th>\n",
              "      <th>time</th>\n",
              "    </tr>\n",
              "  </thead>\n",
              "  <tbody>\n",
              "    <tr>\n",
              "      <td>0</td>\n",
              "      <td>0.840915</td>\n",
              "      <td>0.781681</td>\n",
              "      <td>0.724700</td>\n",
              "      <td>01:40</td>\n",
              "    </tr>\n",
              "    <tr>\n",
              "      <td>1</td>\n",
              "      <td>0.830913</td>\n",
              "      <td>0.780680</td>\n",
              "      <td>0.721900</td>\n",
              "      <td>01:40</td>\n",
              "    </tr>\n",
              "    <tr>\n",
              "      <td>2</td>\n",
              "      <td>0.855682</td>\n",
              "      <td>0.754143</td>\n",
              "      <td>0.735600</td>\n",
              "      <td>01:39</td>\n",
              "    </tr>\n",
              "    <tr>\n",
              "      <td>3</td>\n",
              "      <td>0.847923</td>\n",
              "      <td>0.783477</td>\n",
              "      <td>0.725800</td>\n",
              "      <td>01:39</td>\n",
              "    </tr>\n",
              "    <tr>\n",
              "      <td>4</td>\n",
              "      <td>0.814433</td>\n",
              "      <td>0.753888</td>\n",
              "      <td>0.734200</td>\n",
              "      <td>01:40</td>\n",
              "    </tr>\n",
              "    <tr>\n",
              "      <td>5</td>\n",
              "      <td>0.810608</td>\n",
              "      <td>0.749997</td>\n",
              "      <td>0.734900</td>\n",
              "      <td>01:41</td>\n",
              "    </tr>\n",
              "    <tr>\n",
              "      <td>6</td>\n",
              "      <td>0.808113</td>\n",
              "      <td>0.747761</td>\n",
              "      <td>0.736500</td>\n",
              "      <td>01:38</td>\n",
              "    </tr>\n",
              "    <tr>\n",
              "      <td>7</td>\n",
              "      <td>0.780334</td>\n",
              "      <td>0.732615</td>\n",
              "      <td>0.739600</td>\n",
              "      <td>01:38</td>\n",
              "    </tr>\n",
              "    <tr>\n",
              "      <td>8</td>\n",
              "      <td>0.763496</td>\n",
              "      <td>0.729192</td>\n",
              "      <td>0.742500</td>\n",
              "      <td>01:39</td>\n",
              "    </tr>\n",
              "    <tr>\n",
              "      <td>9</td>\n",
              "      <td>0.780230</td>\n",
              "      <td>0.729224</td>\n",
              "      <td>0.743100</td>\n",
              "      <td>01:42</td>\n",
              "    </tr>\n",
              "  </tbody>\n",
              "</table>"
            ],
            "text/plain": [
              "<IPython.core.display.HTML object>"
            ]
          },
          "metadata": {
            "tags": []
          }
        }
      ]
    },
    {
      "cell_type": "code",
      "metadata": {
        "id": "GI-sj6bAzk2E",
        "colab_type": "code",
        "outputId": "fa4b1b37-3d3a-4abd-8b9c-d423578c5a70",
        "colab": {
          "base_uri": "https://localhost:8080/",
          "height": 359
        }
      },
      "source": [
        "learn.fit_one_cycle(10) \n",
        "learn.save('stage-6')  # saving model weights"
      ],
      "execution_count": 0,
      "outputs": [
        {
          "output_type": "display_data",
          "data": {
            "text/html": [
              "<table border=\"1\" class=\"dataframe\">\n",
              "  <thead>\n",
              "    <tr style=\"text-align: left;\">\n",
              "      <th>epoch</th>\n",
              "      <th>train_loss</th>\n",
              "      <th>valid_loss</th>\n",
              "      <th>accuracy</th>\n",
              "      <th>time</th>\n",
              "    </tr>\n",
              "  </thead>\n",
              "  <tbody>\n",
              "    <tr>\n",
              "      <td>0</td>\n",
              "      <td>0.772697</td>\n",
              "      <td>0.736519</td>\n",
              "      <td>0.740600</td>\n",
              "      <td>01:41</td>\n",
              "    </tr>\n",
              "    <tr>\n",
              "      <td>1</td>\n",
              "      <td>0.781030</td>\n",
              "      <td>0.742463</td>\n",
              "      <td>0.740600</td>\n",
              "      <td>01:40</td>\n",
              "    </tr>\n",
              "    <tr>\n",
              "      <td>2</td>\n",
              "      <td>0.806725</td>\n",
              "      <td>0.737804</td>\n",
              "      <td>0.738300</td>\n",
              "      <td>01:41</td>\n",
              "    </tr>\n",
              "    <tr>\n",
              "      <td>3</td>\n",
              "      <td>0.818899</td>\n",
              "      <td>0.736174</td>\n",
              "      <td>0.740600</td>\n",
              "      <td>01:42</td>\n",
              "    </tr>\n",
              "    <tr>\n",
              "      <td>4</td>\n",
              "      <td>0.785782</td>\n",
              "      <td>0.734911</td>\n",
              "      <td>0.744000</td>\n",
              "      <td>01:44</td>\n",
              "    </tr>\n",
              "    <tr>\n",
              "      <td>5</td>\n",
              "      <td>0.777145</td>\n",
              "      <td>0.723663</td>\n",
              "      <td>0.746100</td>\n",
              "      <td>01:42</td>\n",
              "    </tr>\n",
              "    <tr>\n",
              "      <td>6</td>\n",
              "      <td>0.760716</td>\n",
              "      <td>0.725843</td>\n",
              "      <td>0.744900</td>\n",
              "      <td>01:42</td>\n",
              "    </tr>\n",
              "    <tr>\n",
              "      <td>7</td>\n",
              "      <td>0.766394</td>\n",
              "      <td>0.715458</td>\n",
              "      <td>0.746200</td>\n",
              "      <td>01:42</td>\n",
              "    </tr>\n",
              "    <tr>\n",
              "      <td>8</td>\n",
              "      <td>0.744888</td>\n",
              "      <td>0.709380</td>\n",
              "      <td>0.748200</td>\n",
              "      <td>01:41</td>\n",
              "    </tr>\n",
              "    <tr>\n",
              "      <td>9</td>\n",
              "      <td>0.738426</td>\n",
              "      <td>0.701632</td>\n",
              "      <td>0.751600</td>\n",
              "      <td>01:39</td>\n",
              "    </tr>\n",
              "  </tbody>\n",
              "</table>"
            ],
            "text/plain": [
              "<IPython.core.display.HTML object>"
            ]
          },
          "metadata": {
            "tags": []
          }
        }
      ]
    },
    {
      "cell_type": "code",
      "metadata": {
        "id": "ZXGXRGNkzmEW",
        "colab_type": "code",
        "outputId": "b2f6cf8b-2c77-470c-a7ea-7c7e29a876ed",
        "colab": {
          "base_uri": "https://localhost:8080/",
          "height": 359
        }
      },
      "source": [
        "learn.fit_one_cycle(10) \n",
        "learn.save('stage-7')  # saving model weights"
      ],
      "execution_count": 0,
      "outputs": [
        {
          "output_type": "display_data",
          "data": {
            "text/html": [
              "<table border=\"1\" class=\"dataframe\">\n",
              "  <thead>\n",
              "    <tr style=\"text-align: left;\">\n",
              "      <th>epoch</th>\n",
              "      <th>train_loss</th>\n",
              "      <th>valid_loss</th>\n",
              "      <th>accuracy</th>\n",
              "      <th>time</th>\n",
              "    </tr>\n",
              "  </thead>\n",
              "  <tbody>\n",
              "    <tr>\n",
              "      <td>0</td>\n",
              "      <td>0.752479</td>\n",
              "      <td>0.719576</td>\n",
              "      <td>0.746600</td>\n",
              "      <td>01:39</td>\n",
              "    </tr>\n",
              "    <tr>\n",
              "      <td>1</td>\n",
              "      <td>0.787833</td>\n",
              "      <td>0.718609</td>\n",
              "      <td>0.748500</td>\n",
              "      <td>01:39</td>\n",
              "    </tr>\n",
              "    <tr>\n",
              "      <td>2</td>\n",
              "      <td>0.778670</td>\n",
              "      <td>0.742786</td>\n",
              "      <td>0.741300</td>\n",
              "      <td>01:39</td>\n",
              "    </tr>\n",
              "    <tr>\n",
              "      <td>3</td>\n",
              "      <td>0.790536</td>\n",
              "      <td>0.734371</td>\n",
              "      <td>0.745800</td>\n",
              "      <td>01:39</td>\n",
              "    </tr>\n",
              "    <tr>\n",
              "      <td>4</td>\n",
              "      <td>0.782568</td>\n",
              "      <td>0.719314</td>\n",
              "      <td>0.752400</td>\n",
              "      <td>01:38</td>\n",
              "    </tr>\n",
              "    <tr>\n",
              "      <td>5</td>\n",
              "      <td>0.758828</td>\n",
              "      <td>0.704848</td>\n",
              "      <td>0.753500</td>\n",
              "      <td>01:37</td>\n",
              "    </tr>\n",
              "    <tr>\n",
              "      <td>6</td>\n",
              "      <td>0.757954</td>\n",
              "      <td>0.711459</td>\n",
              "      <td>0.752700</td>\n",
              "      <td>01:37</td>\n",
              "    </tr>\n",
              "    <tr>\n",
              "      <td>7</td>\n",
              "      <td>0.739951</td>\n",
              "      <td>0.699455</td>\n",
              "      <td>0.754800</td>\n",
              "      <td>01:40</td>\n",
              "    </tr>\n",
              "    <tr>\n",
              "      <td>8</td>\n",
              "      <td>0.712241</td>\n",
              "      <td>0.704505</td>\n",
              "      <td>0.753900</td>\n",
              "      <td>01:39</td>\n",
              "    </tr>\n",
              "    <tr>\n",
              "      <td>9</td>\n",
              "      <td>0.717526</td>\n",
              "      <td>0.688152</td>\n",
              "      <td>0.758000</td>\n",
              "      <td>01:38</td>\n",
              "    </tr>\n",
              "  </tbody>\n",
              "</table>"
            ],
            "text/plain": [
              "<IPython.core.display.HTML object>"
            ]
          },
          "metadata": {
            "tags": []
          }
        }
      ]
    },
    {
      "cell_type": "code",
      "metadata": {
        "id": "1G8Nun2S_SDv",
        "colab_type": "code",
        "outputId": "2b54895f-9012-476d-ccca-42bd4fef078c",
        "colab": {
          "base_uri": "https://localhost:8080/",
          "height": 979
        }
      },
      "source": [
        "learn.fit_one_cycle(30) \n",
        "learn.save('stage-8')  # saving model weights"
      ],
      "execution_count": 0,
      "outputs": [
        {
          "output_type": "display_data",
          "data": {
            "text/html": [
              "<table border=\"1\" class=\"dataframe\">\n",
              "  <thead>\n",
              "    <tr style=\"text-align: left;\">\n",
              "      <th>epoch</th>\n",
              "      <th>train_loss</th>\n",
              "      <th>valid_loss</th>\n",
              "      <th>accuracy</th>\n",
              "      <th>time</th>\n",
              "    </tr>\n",
              "  </thead>\n",
              "  <tbody>\n",
              "    <tr>\n",
              "      <td>0</td>\n",
              "      <td>0.730687</td>\n",
              "      <td>0.695994</td>\n",
              "      <td>0.757400</td>\n",
              "      <td>01:38</td>\n",
              "    </tr>\n",
              "    <tr>\n",
              "      <td>1</td>\n",
              "      <td>0.731861</td>\n",
              "      <td>0.690191</td>\n",
              "      <td>0.757200</td>\n",
              "      <td>01:38</td>\n",
              "    </tr>\n",
              "    <tr>\n",
              "      <td>2</td>\n",
              "      <td>0.726976</td>\n",
              "      <td>0.703602</td>\n",
              "      <td>0.754600</td>\n",
              "      <td>01:38</td>\n",
              "    </tr>\n",
              "    <tr>\n",
              "      <td>3</td>\n",
              "      <td>0.736154</td>\n",
              "      <td>0.699259</td>\n",
              "      <td>0.757100</td>\n",
              "      <td>01:39</td>\n",
              "    </tr>\n",
              "    <tr>\n",
              "      <td>4</td>\n",
              "      <td>0.740010</td>\n",
              "      <td>0.692019</td>\n",
              "      <td>0.759000</td>\n",
              "      <td>01:37</td>\n",
              "    </tr>\n",
              "    <tr>\n",
              "      <td>5</td>\n",
              "      <td>0.762726</td>\n",
              "      <td>0.707376</td>\n",
              "      <td>0.750300</td>\n",
              "      <td>01:37</td>\n",
              "    </tr>\n",
              "    <tr>\n",
              "      <td>6</td>\n",
              "      <td>0.747707</td>\n",
              "      <td>0.708495</td>\n",
              "      <td>0.750500</td>\n",
              "      <td>01:37</td>\n",
              "    </tr>\n",
              "    <tr>\n",
              "      <td>7</td>\n",
              "      <td>0.780127</td>\n",
              "      <td>0.697240</td>\n",
              "      <td>0.755300</td>\n",
              "      <td>01:37</td>\n",
              "    </tr>\n",
              "    <tr>\n",
              "      <td>8</td>\n",
              "      <td>0.763043</td>\n",
              "      <td>0.713198</td>\n",
              "      <td>0.750300</td>\n",
              "      <td>01:37</td>\n",
              "    </tr>\n",
              "    <tr>\n",
              "      <td>9</td>\n",
              "      <td>0.777756</td>\n",
              "      <td>0.702171</td>\n",
              "      <td>0.756100</td>\n",
              "      <td>01:38</td>\n",
              "    </tr>\n",
              "    <tr>\n",
              "      <td>10</td>\n",
              "      <td>0.732102</td>\n",
              "      <td>0.715078</td>\n",
              "      <td>0.747500</td>\n",
              "      <td>01:37</td>\n",
              "    </tr>\n",
              "    <tr>\n",
              "      <td>11</td>\n",
              "      <td>0.737048</td>\n",
              "      <td>0.712288</td>\n",
              "      <td>0.752100</td>\n",
              "      <td>01:37</td>\n",
              "    </tr>\n",
              "    <tr>\n",
              "      <td>12</td>\n",
              "      <td>0.735741</td>\n",
              "      <td>0.679829</td>\n",
              "      <td>0.762200</td>\n",
              "      <td>01:37</td>\n",
              "    </tr>\n",
              "    <tr>\n",
              "      <td>13</td>\n",
              "      <td>0.734156</td>\n",
              "      <td>0.706302</td>\n",
              "      <td>0.752600</td>\n",
              "      <td>01:38</td>\n",
              "    </tr>\n",
              "    <tr>\n",
              "      <td>14</td>\n",
              "      <td>0.731308</td>\n",
              "      <td>0.714047</td>\n",
              "      <td>0.750600</td>\n",
              "      <td>01:40</td>\n",
              "    </tr>\n",
              "    <tr>\n",
              "      <td>15</td>\n",
              "      <td>0.736341</td>\n",
              "      <td>0.682809</td>\n",
              "      <td>0.757800</td>\n",
              "      <td>01:38</td>\n",
              "    </tr>\n",
              "    <tr>\n",
              "      <td>16</td>\n",
              "      <td>0.734518</td>\n",
              "      <td>0.675892</td>\n",
              "      <td>0.761300</td>\n",
              "      <td>01:36</td>\n",
              "    </tr>\n",
              "    <tr>\n",
              "      <td>17</td>\n",
              "      <td>0.720501</td>\n",
              "      <td>0.675331</td>\n",
              "      <td>0.760100</td>\n",
              "      <td>01:37</td>\n",
              "    </tr>\n",
              "    <tr>\n",
              "      <td>18</td>\n",
              "      <td>0.748052</td>\n",
              "      <td>0.672687</td>\n",
              "      <td>0.765700</td>\n",
              "      <td>01:38</td>\n",
              "    </tr>\n",
              "    <tr>\n",
              "      <td>19</td>\n",
              "      <td>0.705190</td>\n",
              "      <td>0.682219</td>\n",
              "      <td>0.760500</td>\n",
              "      <td>01:37</td>\n",
              "    </tr>\n",
              "    <tr>\n",
              "      <td>20</td>\n",
              "      <td>0.702959</td>\n",
              "      <td>0.675357</td>\n",
              "      <td>0.761600</td>\n",
              "      <td>01:37</td>\n",
              "    </tr>\n",
              "    <tr>\n",
              "      <td>21</td>\n",
              "      <td>0.679763</td>\n",
              "      <td>0.664301</td>\n",
              "      <td>0.766800</td>\n",
              "      <td>01:38</td>\n",
              "    </tr>\n",
              "    <tr>\n",
              "      <td>22</td>\n",
              "      <td>0.713679</td>\n",
              "      <td>0.655151</td>\n",
              "      <td>0.768100</td>\n",
              "      <td>01:38</td>\n",
              "    </tr>\n",
              "    <tr>\n",
              "      <td>23</td>\n",
              "      <td>0.701654</td>\n",
              "      <td>0.661780</td>\n",
              "      <td>0.767900</td>\n",
              "      <td>01:40</td>\n",
              "    </tr>\n",
              "    <tr>\n",
              "      <td>24</td>\n",
              "      <td>0.682451</td>\n",
              "      <td>0.660148</td>\n",
              "      <td>0.767300</td>\n",
              "      <td>01:40</td>\n",
              "    </tr>\n",
              "    <tr>\n",
              "      <td>25</td>\n",
              "      <td>0.682267</td>\n",
              "      <td>0.659590</td>\n",
              "      <td>0.766900</td>\n",
              "      <td>01:39</td>\n",
              "    </tr>\n",
              "    <tr>\n",
              "      <td>26</td>\n",
              "      <td>0.684828</td>\n",
              "      <td>0.663599</td>\n",
              "      <td>0.765000</td>\n",
              "      <td>01:38</td>\n",
              "    </tr>\n",
              "    <tr>\n",
              "      <td>27</td>\n",
              "      <td>0.668305</td>\n",
              "      <td>0.647947</td>\n",
              "      <td>0.770800</td>\n",
              "      <td>01:36</td>\n",
              "    </tr>\n",
              "    <tr>\n",
              "      <td>28</td>\n",
              "      <td>0.687212</td>\n",
              "      <td>0.656303</td>\n",
              "      <td>0.767400</td>\n",
              "      <td>01:37</td>\n",
              "    </tr>\n",
              "    <tr>\n",
              "      <td>29</td>\n",
              "      <td>0.698735</td>\n",
              "      <td>0.661538</td>\n",
              "      <td>0.766900</td>\n",
              "      <td>01:36</td>\n",
              "    </tr>\n",
              "  </tbody>\n",
              "</table>"
            ],
            "text/plain": [
              "<IPython.core.display.HTML object>"
            ]
          },
          "metadata": {
            "tags": []
          }
        }
      ]
    },
    {
      "cell_type": "code",
      "metadata": {
        "id": "692tL6DUL23s",
        "colab_type": "code",
        "colab": {
          "base_uri": "https://localhost:8080/",
          "height": 359
        },
        "outputId": "59458190-dab1-46ff-971e-a151e890f7df"
      },
      "source": [
        "learn.fit_one_cycle(10) \n",
        "learn.save('stage-9')  # saving model weights"
      ],
      "execution_count": 36,
      "outputs": [
        {
          "output_type": "display_data",
          "data": {
            "text/html": [
              "<table border=\"1\" class=\"dataframe\">\n",
              "  <thead>\n",
              "    <tr style=\"text-align: left;\">\n",
              "      <th>epoch</th>\n",
              "      <th>train_loss</th>\n",
              "      <th>valid_loss</th>\n",
              "      <th>accuracy</th>\n",
              "      <th>time</th>\n",
              "    </tr>\n",
              "  </thead>\n",
              "  <tbody>\n",
              "    <tr>\n",
              "      <td>0</td>\n",
              "      <td>0.680058</td>\n",
              "      <td>0.655137</td>\n",
              "      <td>0.770600</td>\n",
              "      <td>01:39</td>\n",
              "    </tr>\n",
              "    <tr>\n",
              "      <td>1</td>\n",
              "      <td>0.710211</td>\n",
              "      <td>0.667369</td>\n",
              "      <td>0.767000</td>\n",
              "      <td>01:38</td>\n",
              "    </tr>\n",
              "    <tr>\n",
              "      <td>2</td>\n",
              "      <td>0.734081</td>\n",
              "      <td>0.664736</td>\n",
              "      <td>0.769900</td>\n",
              "      <td>01:37</td>\n",
              "    </tr>\n",
              "    <tr>\n",
              "      <td>3</td>\n",
              "      <td>0.741398</td>\n",
              "      <td>0.692100</td>\n",
              "      <td>0.759200</td>\n",
              "      <td>01:37</td>\n",
              "    </tr>\n",
              "    <tr>\n",
              "      <td>4</td>\n",
              "      <td>0.733376</td>\n",
              "      <td>0.674567</td>\n",
              "      <td>0.762300</td>\n",
              "      <td>01:37</td>\n",
              "    </tr>\n",
              "    <tr>\n",
              "      <td>5</td>\n",
              "      <td>0.691910</td>\n",
              "      <td>0.667717</td>\n",
              "      <td>0.761100</td>\n",
              "      <td>01:37</td>\n",
              "    </tr>\n",
              "    <tr>\n",
              "      <td>6</td>\n",
              "      <td>0.678038</td>\n",
              "      <td>0.664215</td>\n",
              "      <td>0.766900</td>\n",
              "      <td>01:37</td>\n",
              "    </tr>\n",
              "    <tr>\n",
              "      <td>7</td>\n",
              "      <td>0.674266</td>\n",
              "      <td>0.657470</td>\n",
              "      <td>0.768900</td>\n",
              "      <td>01:38</td>\n",
              "    </tr>\n",
              "    <tr>\n",
              "      <td>8</td>\n",
              "      <td>0.680675</td>\n",
              "      <td>0.652365</td>\n",
              "      <td>0.771000</td>\n",
              "      <td>01:39</td>\n",
              "    </tr>\n",
              "    <tr>\n",
              "      <td>9</td>\n",
              "      <td>0.663122</td>\n",
              "      <td>0.651919</td>\n",
              "      <td>0.770300</td>\n",
              "      <td>01:38</td>\n",
              "    </tr>\n",
              "  </tbody>\n",
              "</table>"
            ],
            "text/plain": [
              "<IPython.core.display.HTML object>"
            ]
          },
          "metadata": {
            "tags": []
          }
        }
      ]
    },
    {
      "cell_type": "markdown",
      "metadata": {
        "id": "BWvBVdBScBi7",
        "colab_type": "text"
      },
      "source": [
        "## Evaluating our Model"
      ]
    },
    {
      "cell_type": "code",
      "metadata": {
        "id": "u7uEr5j7cA1E",
        "colab_type": "code",
        "colab": {}
      },
      "source": [
        "interp = ClassificationInterpretation.from_learner(learn)"
      ],
      "execution_count": 0,
      "outputs": []
    },
    {
      "cell_type": "code",
      "metadata": {
        "id": "yfTILcrEd7vf",
        "colab_type": "code",
        "outputId": "3c61e12d-8c33-482f-ed81-88f937c61677",
        "colab": {
          "base_uri": "https://localhost:8080/",
          "height": 35
        }
      },
      "source": [
        "output = interp.confusion_matrix()\n",
        "accuracy = output.trace() / output.sum()\n",
        "print('Accuracy :', accuracy)"
      ],
      "execution_count": 38,
      "outputs": [
        {
          "output_type": "stream",
          "text": [
            "Accuracy : 0.7703\n"
          ],
          "name": "stdout"
        }
      ]
    },
    {
      "cell_type": "code",
      "metadata": {
        "id": "E2UrSbOecK1A",
        "colab_type": "code",
        "outputId": "c6999220-66cc-457b-c151-59db1e57b815",
        "colab": {
          "base_uri": "https://localhost:8080/",
          "height": 725
        }
      },
      "source": [
        "interp.plot_top_losses(9, figsize=(15, 11))"
      ],
      "execution_count": 33,
      "outputs": [
        {
          "output_type": "display_data",
          "data": {
            "image/png": "[encoded data removed]",
            "text/plain": [
              "<Figure size 1080x792 with 9 Axes>"
            ]
          },
          "metadata": {
            "tags": []
          }
        }
      ]
    },
    {
      "cell_type": "code",
      "metadata": {
        "id": "nTuT5-PgcPCC",
        "colab_type": "code",
        "outputId": "a893f65d-1275-488f-fb76-bc2c738ccc23",
        "colab": {
          "base_uri": "https://localhost:8080/",
          "height": 743
        }
      },
      "source": [
        "interp.plot_confusion_matrix(figsize=(12, 12), dpi=60)"
      ],
      "execution_count": 34,
      "outputs": [
        {
          "output_type": "display_data",
          "data": {
            "image/png": "[encoded data removed]",
            "text/plain": [
              "<Figure size 720x720 with 1 Axes>"
            ]
          },
          "metadata": {
            "tags": []
          }
        }
      ]
    },
    {
      "cell_type": "code",
      "metadata": {
        "id": "2WjJvCgYcW-Y",
        "colab_type": "code",
        "outputId": "6cbfb0b1-7199-40c9-f9a3-4f44c91b44c6",
        "colab": {
          "base_uri": "https://localhost:8080/",
          "height": 1000
        }
      },
      "source": [
        "interp.most_confused(min_val=2)"
      ],
      "execution_count": 35,
      "outputs": [
        {
          "output_type": "execute_result",
          "data": {
            "text/plain": [
              "[('dog', 'cat', 137),\n",
              " ('cat', 'frog', 135),\n",
              " ('cat', 'dog', 119),\n",
              " ('ship', 'airplane', 92),\n",
              " ('bird', 'frog', 89),\n",
              " ('truck', 'automobile', 84),\n",
              " ('automobile', 'truck', 81),\n",
              " ('deer', 'frog', 80),\n",
              " ('bird', 'airplane', 70),\n",
              " ('cat', 'bird', 67),\n",
              " ('deer', 'horse', 65),\n",
              " ('dog', 'frog', 63),\n",
              " ('dog', 'horse', 60),\n",
              " ('bird', 'deer', 53),\n",
              " ('cat', 'deer', 52),\n",
              " ('deer', 'bird', 52),\n",
              " ('ship', 'automobile', 47),\n",
              " ('cat', 'horse', 46),\n",
              " ('dog', 'deer', 38),\n",
              " ('airplane', 'truck', 36),\n",
              " ('horse', 'deer', 35),\n",
              " ('deer', 'cat', 34),\n",
              " ('ship', 'truck', 34),\n",
              " ('truck', 'airplane', 34),\n",
              " ('bird', 'dog', 33),\n",
              " ('bird', 'cat', 30),\n",
              " ('horse', 'dog', 30),\n",
              " ('dog', 'bird', 29),\n",
              " ('airplane', 'ship', 28),\n",
              " ('bird', 'horse', 27),\n",
              " ('deer', 'airplane', 25),\n",
              " ('horse', 'cat', 25),\n",
              " ('airplane', 'bird', 24),\n",
              " ('frog', 'bird', 23),\n",
              " ('cat', 'airplane', 22),\n",
              " ('airplane', 'automobile', 21),\n",
              " ('cat', 'truck', 21),\n",
              " ('truck', 'ship', 20),\n",
              " ('automobile', 'airplane', 19),\n",
              " ('frog', 'cat', 19),\n",
              " ('horse', 'frog', 19),\n",
              " ('deer', 'dog', 18),\n",
              " ('cat', 'automobile', 15),\n",
              " ('horse', 'airplane', 15),\n",
              " ('horse', 'bird', 15),\n",
              " ('horse', 'truck', 15),\n",
              " ('cat', 'ship', 13),\n",
              " ('truck', 'horse', 13),\n",
              " ('automobile', 'ship', 12),\n",
              " ('dog', 'automobile', 12),\n",
              " ('frog', 'deer', 12),\n",
              " ('airplane', 'horse', 11),\n",
              " ('dog', 'airplane', 9),\n",
              " ('frog', 'automobile', 9),\n",
              " ('airplane', 'cat', 8),\n",
              " ('automobile', 'frog', 8),\n",
              " ('deer', 'ship', 8),\n",
              " ('ship', 'bird', 8),\n",
              " ('bird', 'automobile', 7),\n",
              " ('bird', 'ship', 7),\n",
              " ('bird', 'truck', 7),\n",
              " ('frog', 'airplane', 7),\n",
              " ('frog', 'dog', 7),\n",
              " ('airplane', 'deer', 6),\n",
              " ('ship', 'frog', 6),\n",
              " ('truck', 'cat', 6),\n",
              " ('airplane', 'frog', 5),\n",
              " ('dog', 'truck', 5),\n",
              " ('ship', 'deer', 5),\n",
              " ('truck', 'frog', 5),\n",
              " ('deer', 'automobile', 4),\n",
              " ('ship', 'horse', 4),\n",
              " ('automobile', 'bird', 3),\n",
              " ('automobile', 'cat', 3),\n",
              " ('automobile', 'dog', 3),\n",
              " ('automobile', 'horse', 3),\n",
              " ('frog', 'horse', 3),\n",
              " ('frog', 'ship', 3),\n",
              " ('horse', 'automobile', 3),\n",
              " ('dog', 'ship', 2),\n",
              " ('frog', 'truck', 2),\n",
              " ('ship', 'cat', 2),\n",
              " ('truck', 'bird', 2)]"
            ]
          },
          "metadata": {
            "tags": []
          },
          "execution_count": 35
        }
      ]
    }
  ]
}